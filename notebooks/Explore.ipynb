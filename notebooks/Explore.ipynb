{
 "cells": [
  {
   "cell_type": "code",
   "execution_count": 2,
   "metadata": {},
   "outputs": [],
   "source": [
    "%load_ext autoreload\n",
    "%autoreload 2\n",
    "\n",
    "import sys\n",
    "sys.path.insert(0, '../')"
   ]
  },
  {
   "cell_type": "code",
   "execution_count": 3,
   "metadata": {},
   "outputs": [],
   "source": [
    "import os\n",
    "import math\n",
    "\n",
    "import numpy\n",
    "import pandas\n",
    "import librosa\n",
    "import soundfile\n",
    "\n",
    "from matplotlib import pyplot as plt\n",
    "import librosa.display\n",
    "\n",
    "from brewaed import utils, labels, beerbubble\n",
    "import brewaed"
   ]
  },
  {
   "cell_type": "code",
   "execution_count": 4,
   "metadata": {},
   "outputs": [
    {
     "data": {
      "text/html": [
       "<div>\n",
       "<style scoped>\n",
       "    .dataframe tbody tr th:only-of-type {\n",
       "        vertical-align: middle;\n",
       "    }\n",
       "\n",
       "    .dataframe tbody tr th {\n",
       "        vertical-align: top;\n",
       "    }\n",
       "\n",
       "    .dataframe thead th {\n",
       "        text-align: right;\n",
       "    }\n",
       "</style>\n",
       "<table border=\"1\" class=\"dataframe\">\n",
       "  <thead>\n",
       "    <tr style=\"text-align: right;\">\n",
       "      <th></th>\n",
       "      <th>youtube_url</th>\n",
       "      <th>filename</th>\n",
       "      <th>path</th>\n",
       "    </tr>\n",
       "    <tr>\n",
       "      <th>id</th>\n",
       "      <th></th>\n",
       "      <th></th>\n",
       "      <th></th>\n",
       "    </tr>\n",
       "  </thead>\n",
       "  <tbody>\n",
       "    <tr>\n",
       "      <th>MN0Mg1uyznU</th>\n",
       "      <td>https://www.youtube.com/watch?v=MN0Mg1uyznU</td>\n",
       "      <td>ASMR _ Homebrewing Airlock Symphony 🍺🎼 Soothin...</td>\n",
       "      <td>../data/audio/ASMR _ Homebrewing Airlock Symph...</td>\n",
       "    </tr>\n",
       "    <tr>\n",
       "      <th>by0e-EkAsOE</th>\n",
       "      <td>https://www.youtube.com/watch?v=by0e-EkAsOE</td>\n",
       "      <td>One hour of apple wine airlock bubbling-by0e-E...</td>\n",
       "      <td>../data/audio/One hour of apple wine airlock b...</td>\n",
       "    </tr>\n",
       "    <tr>\n",
       "      <th>q2srYoC3FOo</th>\n",
       "      <td>https://www.youtube.com/watch?v=q2srYoC3FOo</td>\n",
       "      <td>Bubbling airlock on pear cider-q2srYoC3FOo.m4a</td>\n",
       "      <td>../data/audio/Bubbling airlock on pear cider-q...</td>\n",
       "    </tr>\n",
       "    <tr>\n",
       "      <th>p0jtxp5nWms</th>\n",
       "      <td>https://www.youtube.com/watch?v=p0jtxp5nWms</td>\n",
       "      <td>Watch an Airlock Bubbling During Mead Fermenta...</td>\n",
       "      <td>../data/audio/Watch an Airlock Bubbling During...</td>\n",
       "    </tr>\n",
       "  </tbody>\n",
       "</table>\n",
       "</div>"
      ],
      "text/plain": [
       "                                             youtube_url  \\\n",
       "id                                                         \n",
       "MN0Mg1uyznU  https://www.youtube.com/watch?v=MN0Mg1uyznU   \n",
       "by0e-EkAsOE  https://www.youtube.com/watch?v=by0e-EkAsOE   \n",
       "q2srYoC3FOo  https://www.youtube.com/watch?v=q2srYoC3FOo   \n",
       "p0jtxp5nWms  https://www.youtube.com/watch?v=p0jtxp5nWms   \n",
       "\n",
       "                                                      filename  \\\n",
       "id                                                               \n",
       "MN0Mg1uyznU  ASMR _ Homebrewing Airlock Symphony 🍺🎼 Soothin...   \n",
       "by0e-EkAsOE  One hour of apple wine airlock bubbling-by0e-E...   \n",
       "q2srYoC3FOo     Bubbling airlock on pear cider-q2srYoC3FOo.m4a   \n",
       "p0jtxp5nWms  Watch an Airlock Bubbling During Mead Fermenta...   \n",
       "\n",
       "                                                          path  \n",
       "id                                                              \n",
       "MN0Mg1uyznU  ../data/audio/ASMR _ Homebrewing Airlock Symph...  \n",
       "by0e-EkAsOE  ../data/audio/One hour of apple wine airlock b...  \n",
       "q2srYoC3FOo  ../data/audio/Bubbling airlock on pear cider-q...  \n",
       "p0jtxp5nWms  ../data/audio/Watch an Airlock Bubbling During...  "
      ]
     },
     "execution_count": 4,
     "metadata": {},
     "output_type": "execute_result"
    }
   ],
   "source": [
    "def load_dataset(path):\n",
    "    df = pandas.read_csv(path)\n",
    "    df = df.set_index('id')\n",
    "    \n",
    "    return df\n",
    "\n",
    "data_dir = '../data'\n",
    "files_path = os.path.join(data_dir, 'files.csv')\n",
    "\n",
    "files = load_dataset(files_path)\n",
    "files['path'] = os.path.join(data_dir, 'audio') + os.path.sep + files.filename \n",
    "files"
   ]
  }
 ],
 "metadata": {
  "kernelspec": {
   "display_name": "Python 3",
   "language": "python",
   "name": "python3"
  },
  "language_info": {
   "codemirror_mode": {
    "name": "ipython",
    "version": 3
   },
   "file_extension": ".py",
   "mimetype": "text/x-python",
   "name": "python",
   "nbconvert_exporter": "python",
   "pygments_lexer": "ipython3",
   "version": "3.9.5"
  }
 },
 "nbformat": 4,
 "nbformat_minor": 4
}
